{
  "nbformat": 4,
  "nbformat_minor": 0,
  "metadata": {
    "colab": {
      "provenance": []
    },
    "kernelspec": {
      "name": "python3",
      "display_name": "Python 3"
    },
    "language_info": {
      "name": "python"
    }
  },
  "cells": [
    {
      "cell_type": "markdown",
      "source": [
        "Define a board for Tic-Tac-Toe"
      ],
      "metadata": {
        "id": "Wdu--waOxD3_"
      }
    },
    {
      "cell_type": "code",
      "execution_count": 93,
      "metadata": {
        "id": "M-8fgb2ircSQ"
      },
      "outputs": [],
      "source": [
        "import numpy as np\n",
        "from enum import Enum\n",
        "\n",
        "\n",
        "class GameResult(Enum):\n",
        "    \"\"\"\n",
        "    Enum to encode different states of the game. A game can be in progress (NOT_FINISHED), lost, won, or draw\n",
        "    \"\"\"\n",
        "    NOT_FINISHED = 0\n",
        "    NAUGHT_WIN = 1\n",
        "    CROSS_WIN = 2\n",
        "    DRAW = 3\n",
        "\n",
        "\n",
        "#\n",
        "# Values to encode the current content of a field on the board. A field can be empty, contain a naught, or\n",
        "# contain a cross\n",
        "#\n",
        "EMPTY = 0  # type: int\n",
        "NAUGHT = 1  # type: int\n",
        "CROSS = 2  # type: int\n",
        "\n",
        "#\n",
        "# Define the length and width of the board. Has to be 3 at the moment, or some parts of the code will break. Also,\n",
        "# the game mechanics kind of require this dimension unless other rules are changed as well. Encoding as a variable\n",
        "# to make the code more readable\n",
        "#\n",
        "BOARD_DIM = 3  # type: int\n",
        "BOARD_SIZE = BOARD_DIM * BOARD_DIM  # type: int\n",
        "\n",
        "\n",
        "class Board:\n",
        "    \"\"\"\n",
        "    The class to encode a tic-tac-toe board, including its current state of pieces.\n",
        "    Also contains various utility methods.\n",
        "    \"\"\"\n",
        "\n",
        "    #\n",
        "    # We will use these starting positions and directions when checking if a move resulted in the game being\n",
        "    # won by one of the sides.\n",
        "    #\n",
        "    WIN_CHECK_DIRS = {0: [(1, 1), (1, 0), (0, 1)],\n",
        "                      1: [(1, 0)],\n",
        "                      2: [(1, 0), (1, -1)],\n",
        "                      3: [(0, 1)],\n",
        "                      6: [(0, 1)]}\n",
        "\n",
        "    def hash_value(self) -> int:\n",
        "        \"\"\"\n",
        "        Encode the current state of the game (board positions) as an integer. Will be used for caching evaluations\n",
        "        :return: A collision free hash value representing the current board state\n",
        "        \"\"\"\n",
        "        res = 0\n",
        "        for i in range(BOARD_SIZE):\n",
        "            res *= 3\n",
        "            res += self.state[i]\n",
        "\n",
        "        return res\n",
        "\n",
        "    @staticmethod\n",
        "    def other_side(side: int) -> int:\n",
        "        \"\"\"\n",
        "        Utility method to return the value of the other player than the one passed as input\n",
        "        :param side: The side we want to know the opposite of\n",
        "        :return: The opposite side to the one passed as input\n",
        "        \"\"\"\n",
        "        if side == EMPTY:\n",
        "            raise ValueError(\"EMPTY has no 'other side'\")\n",
        "\n",
        "        if side == CROSS:\n",
        "            return NAUGHT\n",
        "\n",
        "        if side == NAUGHT:\n",
        "            return CROSS\n",
        "\n",
        "        raise ValueError(\"{} is not a valid side\".format(side))\n",
        "\n",
        "    def __init__(self, s=None):\n",
        "        \"\"\"\n",
        "        Create a new Board. If a state is passed in, we use that otherwise we initialize with an empty board\n",
        "        :param s: Optional board state to initialise the board with\n",
        "        \"\"\"\n",
        "        if s is None:\n",
        "            self.state = np.ndarray(shape=(1, BOARD_SIZE), dtype=int)[0]\n",
        "            self.reset()\n",
        "        else:\n",
        "            self.state = s.copy()\n",
        "\n",
        "    def coord_to_pos(self, coord: (int, int)) -> int:\n",
        "        \"\"\"\n",
        "        Converts a 2D board position to a 1D board position.\n",
        "        Various parts of code prefer one over the other.\n",
        "        :param coord: A board position in 2D coordinates\n",
        "        :return: The same board position in 1D coordinates\n",
        "        \"\"\"\n",
        "        return coord[0] * BOARD_DIM + coord[1]\n",
        "\n",
        "    def pos_to_coord(self, pos: int) -> (int, int):\n",
        "        \"\"\"\n",
        "        Converts a 1D board position to a 2D board position.\n",
        "        Various parts of code prefer one over the other.\n",
        "        :param pos: A board position in 1D coordinates\n",
        "        :return: The same board position in 2D coordinates\n",
        "        \"\"\"\n",
        "        return pos // BOARD_DIM, pos % BOARD_DIM\n",
        "\n",
        "    def reset(self):\n",
        "        \"\"\"\n",
        "        Resets the game board. All fields are set to be EMPTY.\n",
        "        \"\"\"\n",
        "        self.state.fill(EMPTY)\n",
        "\n",
        "    def num_empty(self) -> int:\n",
        "        \"\"\"\n",
        "        Counts and returns the number of empty fields on the board.\n",
        "        :return: The number of empty fields on the board\n",
        "        \"\"\"\n",
        "        return np.count_nonzero(self.state == EMPTY)\n",
        "\n",
        "    def random_empty_spot(self) -> int:\n",
        "        \"\"\"\n",
        "        Returns a random empty spot on the board in 1D coordinates\n",
        "        :return: A random empty spot on the board in 1D coordinates\n",
        "        \"\"\"\n",
        "        index = np.random.randint(self.num_empty())\n",
        "        for i in range(9):\n",
        "            if self.state[i] == EMPTY:\n",
        "                if index == 0:\n",
        "                    return i\n",
        "                else:\n",
        "                    index = index - 1\n",
        "\n",
        "    def is_legal(self, pos: int) -> bool:\n",
        "        \"\"\"\n",
        "        Tests whether a board position can be played, i.e. is currently empty\n",
        "        :param pos: The board position in 1D that is to be checked\n",
        "        :return: Whether the position can be played\n",
        "        \"\"\"\n",
        "        return (0 <= pos < BOARD_SIZE) and (self.state[pos] == EMPTY)\n",
        "\n",
        "    def move(self, position: int, side: int) -> (np.ndarray, GameResult, bool):\n",
        "        \"\"\"\n",
        "        Places a piece of side \"side\" at position \"position\". The position is to be provided as 1D.\n",
        "        Throws a ValueError if the position is not EMPTY\n",
        "        returns the new state of the board, the game result after this move, and whether this move has finished the game\n",
        "        :param position: The position where we want to put a piece\n",
        "        :param side: What piece we want to play (NAUGHT, or CROSS)\n",
        "        :return: The game state after the move, The game result after the move, Whether the move finished the game\n",
        "        \"\"\"\n",
        "        if self.state[position] != EMPTY:\n",
        "            print('Illegal move')\n",
        "            raise ValueError(\"Invalid move\")\n",
        "\n",
        "        self.state[position] = side\n",
        "\n",
        "        if self.check_win():\n",
        "            return self.state, GameResult.CROSS_WIN if side == CROSS else GameResult.NAUGHT_WIN, True\n",
        "\n",
        "        if self.num_empty() == 0:\n",
        "            return self.state, GameResult.DRAW, True\n",
        "\n",
        "        return self.state, GameResult.NOT_FINISHED, False\n",
        "\n",
        "    def apply_dir(self, pos: int, direction: (int, int)) -> int:\n",
        "        \"\"\"\n",
        "        Applies 2D direction dir to 1D position pos.\n",
        "        Returns the resulting 1D position, or -1 if the resulting position would not be a valid board position.\n",
        "        Used internally to check whether either side has won the game.\n",
        "        :param pos: What position in 1D to apply the direction to\n",
        "        :param direction: The direction to apply in 2D\n",
        "        :return: The resulting 1D position, or -1 if the resulting position would not be a valid board position.\n",
        "        \"\"\"\n",
        "        row = pos // 3\n",
        "        col = pos % 3\n",
        "        row += direction[0]\n",
        "        if row < 0 or row > 2:\n",
        "            return -1\n",
        "        col += direction[1]\n",
        "        if col < 0 or col > 2:\n",
        "            return -1\n",
        "\n",
        "        return row * 3 + col\n",
        "\n",
        "    def check_win_in_dir(self, pos: int, direction: (int, int)) -> bool:\n",
        "        \"\"\"\n",
        "        Checks and returns whether there are 3 pieces of the same side in a row if following direction dir\n",
        "        Used internally to check whether either side has won the game.\n",
        "        :param pos: The position in 1D from which to check if we have 3 in a row\n",
        "        :param direction: The direction in 2D in which to check for 3 in a row\n",
        "        :return: Whether there are 3 in a row of the same side staring from position pos and going in direction\n",
        "        `direction`\n",
        "        \"\"\"\n",
        "        c = self.state[pos]\n",
        "        if c == EMPTY:\n",
        "            return False\n",
        "\n",
        "        p1 = int(self.apply_dir(pos, direction))\n",
        "        p2 = int(self.apply_dir(p1, direction))\n",
        "\n",
        "        if p1 == -1 or p2 == -1:\n",
        "            return False\n",
        "\n",
        "        if c == self.state[p1] and c == self.state[p2]:\n",
        "            return True\n",
        "\n",
        "        return False\n",
        "\n",
        "    def who_won(self) -> int:\n",
        "        \"\"\"\n",
        "        Check whether either side has won the game and return the winner\n",
        "        :return: If one player has won, that player; otherwise EMPTY\n",
        "        \"\"\"\n",
        "        for start_pos in self.WIN_CHECK_DIRS:\n",
        "            if self.state[start_pos] != EMPTY:\n",
        "                for direction in self.WIN_CHECK_DIRS[start_pos]:\n",
        "                    res = self.check_win_in_dir(start_pos, direction)\n",
        "                    if res:\n",
        "                        return self.state[start_pos]\n",
        "\n",
        "        return EMPTY\n",
        "\n",
        "    def check_win(self) -> bool:\n",
        "        \"\"\"\n",
        "        Check whether either side has won the game\n",
        "        :return: Whether a side has won the game\n",
        "        \"\"\"\n",
        "        for start_pos in self.WIN_CHECK_DIRS:\n",
        "            if self.state[start_pos] != EMPTY:\n",
        "                for direction in self.WIN_CHECK_DIRS[start_pos]:\n",
        "                    res = self.check_win_in_dir(start_pos, direction)\n",
        "                    if res:\n",
        "                        return True\n",
        "\n",
        "        return False\n",
        "\n",
        "    def state_to_char(self, pos, html=False):\n",
        "        \"\"\"\n",
        "        Return 'x', 'o', or ' ' depending on what piece is on 1D position pos. Ig `html` is True,\n",
        "        return '&ensp' instead of ' ' to enforce a white space in the case of HTML output\n",
        "        :param pos: The position in 1D for which we want a character representation\n",
        "        :param html: Flag indicating whether we want an ASCII (False) or HTML (True) character\n",
        "        :return: 'x', 'o', or ' ' depending on what piece is on 1D position pos. Ig `html` is True,\n",
        "        return '&ensp' instead of ' '\n",
        "        \"\"\"\n",
        "        if (self.state[pos]) == EMPTY:\n",
        "            return '&ensp;' if html else ' '\n",
        "\n",
        "        if (self.state[pos]) == NAUGHT:\n",
        "            return 'o'\n",
        "\n",
        "        return 'x'\n",
        "\n",
        "    def html_str(self) -> str:\n",
        "        \"\"\"\n",
        "        Format and return the game state as a HTML table\n",
        "        :return: The game state as a HTML table string\n",
        "        \"\"\"\n",
        "        data = self.state_to_charlist(True)\n",
        "        html = '<table border=\"1\"><tr>{}</tr></table>'.format(\n",
        "            '</tr><tr>'.join(\n",
        "                '<td>{}</td>'.format('</td><td>'.join(str(_) for _ in row)) for row in data)\n",
        "        )\n",
        "        return html\n",
        "\n",
        "    def state_to_charlist(self, html=False):\n",
        "        \"\"\"\n",
        "        Convert the game state to a list of list of strings (e.g. for creating a HTML table view of it).\n",
        "        Useful for displaying the current state of the game.\n",
        "        :param html: Flag indicating whether we want an ASCII (False) or HTML (True) character\n",
        "        :return: A list of lists of character representing the game state.\n",
        "        \"\"\"\n",
        "        res = []\n",
        "        for i in range(3):\n",
        "            line = [self.state_to_char(i * 3, html),\n",
        "                    self.state_to_char(i * 3 + 1, html),\n",
        "                    self.state_to_char(i * 3 + 2, html)]\n",
        "            res.append(line)\n",
        "\n",
        "        return res\n",
        "\n",
        "    def __str__(self) -> str:\n",
        "        \"\"\"\n",
        "        Return ASCII representation of the board\n",
        "        :return: ASCII representation of the board\n",
        "        \"\"\"\n",
        "        board_str = \"\"\n",
        "        for i in range(3):\n",
        "            board_str += self.state_to_char(i * 3) + '|' + self.state_to_char(i * 3 + 1) \\\n",
        "                         + '|' + self.state_to_char(i * 3 + 2) + \"\\n\"\n",
        "\n",
        "            if i != 2:\n",
        "                board_str += \"-----\\n\"\n",
        "\n",
        "        board_str += \"\\n\"\n",
        "        return board_str\n",
        "\n",
        "    def print_board(self):\n",
        "        \"\"\"\n",
        "        Print an ASCII representation of the board\n",
        "        \"\"\"\n",
        "        for i in range(3):\n",
        "            board_str = self.state_to_char(i * 3) + '|' + self.state_to_char(i * 3 + 1) \\\n",
        "                        + '|' + self.state_to_char(i * 3 + 2)\n",
        "\n",
        "            print(board_str)\n",
        "            if i != 2:\n",
        "                print(\"-----\")\n",
        "\n",
        "        print(\"\")"
      ]
    },
    {
      "cell_type": "code",
      "source": [
        "from IPython.display import HTML, display\n",
        "def print_board(board):\n",
        "    display(HTML(\"\"\"\n",
        "    <style>\n",
        "    .rendered_html table, .rendered_html th, .rendered_html tr, .rendered_html td {\n",
        "      border: 1px  black solid !important;\n",
        "      color: black !important;\n",
        "    }\n",
        "    </style>\n",
        "    \"\"\"+board.html_str()))\n",
        "board = Board()\n",
        "print_board(board)"
      ],
      "metadata": {
        "colab": {
          "base_uri": "https://localhost:8080/",
          "height": 91
        },
        "id": "p08ndMrPv0nO",
        "outputId": "15817ede-816f-4b4e-83de-915750c43412"
      },
      "execution_count": 94,
      "outputs": [
        {
          "output_type": "display_data",
          "data": {
            "text/plain": [
              "<IPython.core.display.HTML object>"
            ],
            "text/html": [
              "\n",
              "    <style>\n",
              "    .rendered_html table, .rendered_html th, .rendered_html tr, .rendered_html td {\n",
              "      border: 1px  black solid !important;\n",
              "      color: black !important;\n",
              "    }\n",
              "    </style>\n",
              "    <table border=\"1\"><tr><td>&ensp;</td><td>&ensp;</td><td>&ensp;</td></tr><tr><td>&ensp;</td><td>&ensp;</td><td>&ensp;</td></tr><tr><td>&ensp;</td><td>&ensp;</td><td>&ensp;</td></tr></table>"
            ]
          },
          "metadata": {}
        }
      ]
    },
    {
      "cell_type": "code",
      "source": [
        "board.reset()\n",
        "finished = False\n",
        "while not finished:\n",
        "   _, result, finished = board.move(board.random_empty_spot(), CROSS)\n",
        "   print_board(board)\n",
        "   if finished:\n",
        "       if result == GameResult.DRAW:\n",
        "           print(\"Game is a draw\")\n",
        "       else:\n",
        "           print(\"Cross won!\")\n",
        "   else:\n",
        "       _, result, finished = board.move(board.random_empty_spot(), NAUGHT)\n",
        "       print_board(board)\n",
        "       if finished:\n",
        "            if result == GameResult.DRAW:\n",
        "               print(\"Game is a draw\")\n",
        "            else:\n",
        "               print(\"Naught won!\")"
      ],
      "metadata": {
        "colab": {
          "base_uri": "https://localhost:8080/",
          "height": 702
        },
        "id": "F6HBQKMMyAyA",
        "outputId": "6339f3af-2f15-496b-9d00-f27f44907695"
      },
      "execution_count": 95,
      "outputs": [
        {
          "output_type": "display_data",
          "data": {
            "text/plain": [
              "<IPython.core.display.HTML object>"
            ],
            "text/html": [
              "\n",
              "    <style>\n",
              "    .rendered_html table, .rendered_html th, .rendered_html tr, .rendered_html td {\n",
              "      border: 1px  black solid !important;\n",
              "      color: black !important;\n",
              "    }\n",
              "    </style>\n",
              "    <table border=\"1\"><tr><td>&ensp;</td><td>&ensp;</td><td>&ensp;</td></tr><tr><td>&ensp;</td><td>&ensp;</td><td>x</td></tr><tr><td>&ensp;</td><td>&ensp;</td><td>&ensp;</td></tr></table>"
            ]
          },
          "metadata": {}
        },
        {
          "output_type": "display_data",
          "data": {
            "text/plain": [
              "<IPython.core.display.HTML object>"
            ],
            "text/html": [
              "\n",
              "    <style>\n",
              "    .rendered_html table, .rendered_html th, .rendered_html tr, .rendered_html td {\n",
              "      border: 1px  black solid !important;\n",
              "      color: black !important;\n",
              "    }\n",
              "    </style>\n",
              "    <table border=\"1\"><tr><td>&ensp;</td><td>&ensp;</td><td>&ensp;</td></tr><tr><td>&ensp;</td><td>&ensp;</td><td>x</td></tr><tr><td>&ensp;</td><td>&ensp;</td><td>o</td></tr></table>"
            ]
          },
          "metadata": {}
        },
        {
          "output_type": "display_data",
          "data": {
            "text/plain": [
              "<IPython.core.display.HTML object>"
            ],
            "text/html": [
              "\n",
              "    <style>\n",
              "    .rendered_html table, .rendered_html th, .rendered_html tr, .rendered_html td {\n",
              "      border: 1px  black solid !important;\n",
              "      color: black !important;\n",
              "    }\n",
              "    </style>\n",
              "    <table border=\"1\"><tr><td>x</td><td>&ensp;</td><td>&ensp;</td></tr><tr><td>&ensp;</td><td>&ensp;</td><td>x</td></tr><tr><td>&ensp;</td><td>&ensp;</td><td>o</td></tr></table>"
            ]
          },
          "metadata": {}
        },
        {
          "output_type": "display_data",
          "data": {
            "text/plain": [
              "<IPython.core.display.HTML object>"
            ],
            "text/html": [
              "\n",
              "    <style>\n",
              "    .rendered_html table, .rendered_html th, .rendered_html tr, .rendered_html td {\n",
              "      border: 1px  black solid !important;\n",
              "      color: black !important;\n",
              "    }\n",
              "    </style>\n",
              "    <table border=\"1\"><tr><td>x</td><td>&ensp;</td><td>o</td></tr><tr><td>&ensp;</td><td>&ensp;</td><td>x</td></tr><tr><td>&ensp;</td><td>&ensp;</td><td>o</td></tr></table>"
            ]
          },
          "metadata": {}
        },
        {
          "output_type": "display_data",
          "data": {
            "text/plain": [
              "<IPython.core.display.HTML object>"
            ],
            "text/html": [
              "\n",
              "    <style>\n",
              "    .rendered_html table, .rendered_html th, .rendered_html tr, .rendered_html td {\n",
              "      border: 1px  black solid !important;\n",
              "      color: black !important;\n",
              "    }\n",
              "    </style>\n",
              "    <table border=\"1\"><tr><td>x</td><td>x</td><td>o</td></tr><tr><td>&ensp;</td><td>&ensp;</td><td>x</td></tr><tr><td>&ensp;</td><td>&ensp;</td><td>o</td></tr></table>"
            ]
          },
          "metadata": {}
        },
        {
          "output_type": "display_data",
          "data": {
            "text/plain": [
              "<IPython.core.display.HTML object>"
            ],
            "text/html": [
              "\n",
              "    <style>\n",
              "    .rendered_html table, .rendered_html th, .rendered_html tr, .rendered_html td {\n",
              "      border: 1px  black solid !important;\n",
              "      color: black !important;\n",
              "    }\n",
              "    </style>\n",
              "    <table border=\"1\"><tr><td>x</td><td>x</td><td>o</td></tr><tr><td>&ensp;</td><td>&ensp;</td><td>x</td></tr><tr><td>&ensp;</td><td>o</td><td>o</td></tr></table>"
            ]
          },
          "metadata": {}
        },
        {
          "output_type": "display_data",
          "data": {
            "text/plain": [
              "<IPython.core.display.HTML object>"
            ],
            "text/html": [
              "\n",
              "    <style>\n",
              "    .rendered_html table, .rendered_html th, .rendered_html tr, .rendered_html td {\n",
              "      border: 1px  black solid !important;\n",
              "      color: black !important;\n",
              "    }\n",
              "    </style>\n",
              "    <table border=\"1\"><tr><td>x</td><td>x</td><td>o</td></tr><tr><td>x</td><td>&ensp;</td><td>x</td></tr><tr><td>&ensp;</td><td>o</td><td>o</td></tr></table>"
            ]
          },
          "metadata": {}
        },
        {
          "output_type": "display_data",
          "data": {
            "text/plain": [
              "<IPython.core.display.HTML object>"
            ],
            "text/html": [
              "\n",
              "    <style>\n",
              "    .rendered_html table, .rendered_html th, .rendered_html tr, .rendered_html td {\n",
              "      border: 1px  black solid !important;\n",
              "      color: black !important;\n",
              "    }\n",
              "    </style>\n",
              "    <table border=\"1\"><tr><td>x</td><td>x</td><td>o</td></tr><tr><td>x</td><td>o</td><td>x</td></tr><tr><td>&ensp;</td><td>o</td><td>o</td></tr></table>"
            ]
          },
          "metadata": {}
        },
        {
          "output_type": "display_data",
          "data": {
            "text/plain": [
              "<IPython.core.display.HTML object>"
            ],
            "text/html": [
              "\n",
              "    <style>\n",
              "    .rendered_html table, .rendered_html th, .rendered_html tr, .rendered_html td {\n",
              "      border: 1px  black solid !important;\n",
              "      color: black !important;\n",
              "    }\n",
              "    </style>\n",
              "    <table border=\"1\"><tr><td>x</td><td>x</td><td>o</td></tr><tr><td>x</td><td>o</td><td>x</td></tr><tr><td>x</td><td>o</td><td>o</td></tr></table>"
            ]
          },
          "metadata": {}
        },
        {
          "output_type": "stream",
          "name": "stdout",
          "text": [
            "Cross won!\n"
          ]
        }
      ]
    },
    {
      "cell_type": "markdown",
      "source": [
        "Define the Player Mode\n"
      ],
      "metadata": {
        "id": "DcZZl4bYyNAR"
      }
    },
    {
      "cell_type": "code",
      "source": [
        "from abc import ABC, abstractmethod\n",
        "class Player(ABC):\n",
        "    \"\"\"\n",
        "    Abstract class defining the interface we expect any Tic Tac Toe player class to implement.\n",
        "    This will allow us to pit various different implementation against each other\n",
        "    \"\"\"\n",
        "\n",
        "    def __init__(self):\n",
        "        \"\"\"\n",
        "        Nothing to do here apart from calling our super class\n",
        "        \"\"\"\n",
        "        super().__init__()\n",
        "\n",
        "    @abstractmethod\n",
        "    def move(self, board: Board) -> (GameResult, bool):\n",
        "       \n",
        "        pass\n",
        "\n",
        "    @abstractmethod\n",
        "    def final_result(self, result: GameResult):\n",
        "        \n",
        "        pass\n",
        "\n",
        "    @abstractmethod\n",
        "    def new_game(self, side: int):\n",
        "        \n",
        "        pass\n"
      ],
      "metadata": {
        "id": "OjxgUlY_yEkk"
      },
      "execution_count": 96,
      "outputs": []
    },
    {
      "cell_type": "markdown",
      "source": [
        "Define a Default Opponent using a random Minimax"
      ],
      "metadata": {
        "id": "rMePOUcJ1has"
      }
    },
    {
      "cell_type": "code",
      "source": [
        "import random\n",
        "\n",
        "\n",
        "class RndMinMaxAgent(Player):\n",
        "   \n",
        "\n",
        "    WIN_VALUE = 1\n",
        "    DRAW_VALUE = 0\n",
        "    LOSS_VALUE = -1\n",
        "\n",
        "    def __init__(self):\n",
        "        \n",
        "        self.side = None\n",
        "\n",
        "        \n",
        "        self.cache = {}\n",
        "\n",
        "        super().__init__()\n",
        "\n",
        "    def new_game(self, side: int):\n",
        "        \n",
        "        if self.side != side:\n",
        "            self.side = side\n",
        "            self.cache = {}\n",
        "\n",
        "    def final_result(self, result: GameResult):\n",
        "       \n",
        "        pass\n",
        "\n",
        "    def _min(self, board: Board) -> int:\n",
        "        \n",
        "\n",
        "        #\n",
        "        # First we check if we have seen this board position before, and if yes just return a random choice\n",
        "        # from the cached values\n",
        "        #\n",
        "        board_hash = board.hash_value()\n",
        "        if board_hash in self.cache:\n",
        "            return random.choice(self.cache[board_hash])\n",
        "\n",
        "        #\n",
        "        # If the game has already finished we return. Otherwise we look at possible continuations\n",
        "        #\n",
        "        winner = board.who_won()\n",
        "        if winner == self.side:\n",
        "            best_moves = {(self.WIN_VALUE, -1)}\n",
        "        elif winner == board.other_side(self.side):\n",
        "            best_moves = {(self.LOSS_VALUE, -1)}\n",
        "        else:\n",
        "            #\n",
        "            # Init the min value as well as action. Min value is set to DRAW as this value will pass through in case\n",
        "            # of a draw\n",
        "            #\n",
        "            min_value = self.DRAW_VALUE\n",
        "            action = -1\n",
        "            best_moves = {(min_value, action)}\n",
        "            for index in [i for i, e in enumerate(board.state) if board.state[i] == EMPTY]:\n",
        "                b = Board(board.state)\n",
        "                b.move(index, board.other_side(self.side))\n",
        "\n",
        "                res, _ = self._max(b)\n",
        "                if res < min_value or action == -1:\n",
        "                    min_value = res\n",
        "                    action = index\n",
        "                    best_moves = {(min_value, action)}\n",
        "                elif res == min_value:\n",
        "                    action = index\n",
        "                    best_moves.add((min_value, action))\n",
        "\n",
        "        best_moves = tuple(best_moves)\n",
        "        self.cache[board_hash] = best_moves\n",
        "\n",
        "        return random.choice(best_moves)\n",
        "\n",
        "    def _max(self, board: Board) -> int:\n",
        "       \n",
        "\n",
        "        #\n",
        "        # First we check if we have seen this board position before, and if yes just return a random choice\n",
        "        # from the cached values\n",
        "        #\n",
        "        board_hash = board.hash_value()\n",
        "        if board_hash in self.cache:\n",
        "            return random.choice(self.cache[board_hash])\n",
        "\n",
        "        #\n",
        "        # If the game has already finished we return. Otherwise we look at possible continuations\n",
        "        #\n",
        "        winner = board.who_won()\n",
        "        if winner == self.side:\n",
        "            best_moves = {(self.WIN_VALUE, -1)}\n",
        "        elif winner == board.other_side(self.side):\n",
        "            best_moves = {(self.LOSS_VALUE, -1)}\n",
        "        else:\n",
        "            #\n",
        "            # Init the min value as well as action. Min value is set to DRAW as this value will pass through in case\n",
        "            # of a draw\n",
        "            #\n",
        "            max_value = self.DRAW_VALUE\n",
        "            action = -1\n",
        "            best_moves = {(max_value, action)}\n",
        "            for index in [i for i, e in enumerate(board.state) if board.state[i] == EMPTY]:\n",
        "                b = Board(board.state)\n",
        "                b.move(index, self.side)\n",
        "\n",
        "                res, _ = self._min(b)\n",
        "                if res > max_value or action == -1:\n",
        "                    max_value = res\n",
        "                    action = index\n",
        "                    best_moves = {(max_value, action)}\n",
        "                elif res == max_value:\n",
        "                    action = index\n",
        "                    best_moves.add((max_value, action))\n",
        "\n",
        "        best_moves = tuple(best_moves)\n",
        "        self.cache[board_hash] = best_moves\n",
        "\n",
        "        return random.choice(best_moves)\n",
        "\n",
        "    def move(self, board: Board) -> (GameResult, bool):\n",
        "       \n",
        "        score, action = self._max(board)\n",
        "        _, res, finished = board.move(action, self.side)\n",
        "        return res, finished"
      ],
      "metadata": {
        "id": "SqJbCmIKycti"
      },
      "execution_count": 97,
      "outputs": []
    },
    {
      "cell_type": "markdown",
      "source": [
        "Define Minimax Player"
      ],
      "metadata": {
        "id": "e0TR7ogo6NYe"
      }
    },
    {
      "cell_type": "code",
      "source": [
        "class MinMaxAgent(Player):\n",
        "    WIN_VALUE = 1\n",
        "    DRAW_VALUE = 0\n",
        "    LOSS_VALUE = -1\n",
        "\n",
        "    def __init__(self):\n",
        "        self.side = None\n",
        "        self.cache = {}\n",
        "        super().__init__()\n",
        "\n",
        "    def new_game(self, side: int):\n",
        "        if self.side != side:\n",
        "            self.side = side\n",
        "            self.cache = {}\n",
        "\n",
        "    def final_result(self, result: int):\n",
        "        pass\n",
        "\n",
        "    def _min(self, board: Board) -> (float, int):\n",
        "        board_hash = board.hash_value()\n",
        "        if board_hash in self.cache:\n",
        "            return self.cache[board_hash]\n",
        "\n",
        "        min_value = self.DRAW_VALUE\n",
        "        action = -1\n",
        "        winner = board.who_won()\n",
        "\n",
        "        if winner == self.side:\n",
        "            min_value = self.WIN_VALUE\n",
        "        elif winner == board.other_side(self.side):\n",
        "            min_value = self.LOSS_VALUE\n",
        "        else:\n",
        "            for index in [i for i, e in enumerate(board.state) if board.state[i] == EMPTY]:\n",
        "                b = Board(board.state)\n",
        "                b.move(index, board.other_side(self.side))\n",
        "                res, _ = self._max(b)\n",
        "\n",
        "                if res < min_value or action == -1:\n",
        "                    min_value = res\n",
        "                    action = index\n",
        "\n",
        "                    if min_value == self.LOSS_VALUE:\n",
        "                        self.cache[board_hash] = (min_value, action)\n",
        "                        return min_value, action\n",
        "\n",
        "            self.cache[board_hash] = (min_value, action)\n",
        "\n",
        "        return min_value, action\n",
        "\n",
        "    def _max(self, board: Board) -> (float, int):\n",
        "        board_hash = board.hash_value()\n",
        "        if board_hash in self.cache:\n",
        "            return self.cache[board_hash]\n",
        "\n",
        "        max_value = self.DRAW_VALUE\n",
        "        action = -1\n",
        "        winner = board.who_won()\n",
        "\n",
        "        if winner == self.side:\n",
        "            max_value = self.WIN_VALUE\n",
        "        elif winner == board.other_side(self.side):\n",
        "            max_value = self.LOSS_VALUE\n",
        "        else:\n",
        "            for index in [i for i, e in enumerate(board.state) if board.state[i] == EMPTY]:\n",
        "                b = Board(board.state)\n",
        "                b.move(index, self.side)\n",
        "                res, _ = self._min(b)\n",
        "\n",
        "                if res > max_value or action == -1:\n",
        "                    max_value = res\n",
        "                    action = index\n",
        "\n",
        "                    if max_value == self.WIN_VALUE:\n",
        "                        self.cache[board_hash] = (max_value, action)\n",
        "                        return max_value, action\n",
        "\n",
        "            self.cache[board_hash] = (max_value, action)\n",
        "\n",
        "        return max_value, action\n",
        "\n",
        "    def move(self, board: Board) -> (int, bool):\n",
        "        score, action = self._max(board)\n",
        "        _, finished = board.move(action, self.side)\n",
        "        return action, finished\n"
      ],
      "metadata": {
        "id": "JMWuJxZ26QHe"
      },
      "execution_count": 98,
      "outputs": []
    },
    {
      "cell_type": "markdown",
      "source": [
        "Define Tabluar Q-learning Player"
      ],
      "metadata": {
        "id": "OdXw3lzS6dal"
      }
    },
    {
      "cell_type": "code",
      "source": [
        "from typing import Dict, List\n",
        "import numpy as np\n",
        "\n",
        "WIN_VALUE = 1.0\n",
        "DRAW_VALUE = 0.5\n",
        "LOSS_VALUE = 0.0\n",
        "\n",
        "class TQPlayer(Player):\n",
        "    def __init__(self, alpha=0.9, gamma=0.95, q_init=0.6):\n",
        "        self.side = None\n",
        "        self.q = {}\n",
        "        self.move_history = []\n",
        "        self.learning_rate = alpha\n",
        "        self.value_discount = gamma\n",
        "        self.q_init_val = q_init\n",
        "        super().__init__()\n",
        "\n",
        "    def get_q(self, board_hash: int) -> np.ndarray:\n",
        "        if board_hash in self.q:\n",
        "            qvals = self.q[board_hash]\n",
        "        else:\n",
        "            qvals = np.full(9, self.q_init_val)\n",
        "            self.q[board_hash] = qvals\n",
        "        return qvals\n",
        "\n",
        "    def get_move(self, board: Board) -> int:\n",
        "        board_hash = board.hash_value()\n",
        "        qvals = self.get_q(board_hash)\n",
        "\n",
        "        while True:\n",
        "            m = np.argmax(qvals)\n",
        "            if board.is_legal(m):\n",
        "                return m\n",
        "            else:\n",
        "                qvals[m] = -1.0\n",
        "\n",
        "    def move(self, board: Board):\n",
        "        m = self.get_move(board)\n",
        "        self.move_history.append((board.hash_value(), m))\n",
        "        _, finished = board.move(m, self.side)\n",
        "        return m, finished\n",
        "\n",
        "    def final_result(self, result: GameResult):\n",
        "        if (result == GameResult.NAUGHT_WIN and self.side == NAUGHT) or (\n",
        "                result == GameResult.CROSS_WIN and self.side == CROSS):\n",
        "            final_value = WIN_VALUE\n",
        "        elif (result == GameResult.NAUGHT_WIN and self.side == CROSS) or (\n",
        "                result == GameResult.CROSS_WIN and self.side == NAUGHT):\n",
        "            final_value = LOSS_VALUE\n",
        "        elif result == GameResult.DRAW:\n",
        "            final_value = DRAW_VALUE\n",
        "        else:\n",
        "            raise ValueError(f\"Unexpected game result {result}\")\n",
        "\n",
        "        self.move_history.reverse()\n",
        "        next_max = -1.0\n",
        "\n",
        "        for h in self.move_history:\n",
        "            qvals = self.get_q(h[0])\n",
        "            if next_max < 0:\n",
        "                qvals[h[1]] = final_value\n",
        "            else:\n",
        "                qvals[h[1]] = qvals[h[1]] * (\n",
        "                            1.0 - self.learning_rate) + self.learning_rate * self.value_discount * next_max\n",
        "\n",
        "            next_max = max(qvals)\n",
        "\n",
        "    def new_game(self, side):\n",
        "        self.side = side\n",
        "        self.move_history = []\n",
        "\n"
      ],
      "metadata": {
        "id": "5ZVGQXBt7Ikd"
      },
      "execution_count": 99,
      "outputs": []
    },
    {
      "cell_type": "markdown",
      "source": [
        "Define Gameing Mode"
      ],
      "metadata": {
        "id": "ipRmKRQK7rIv"
      }
    },
    {
      "cell_type": "code",
      "source": [
        "def play_game(board: Board, player1: Player, player2: Player):\n",
        "    player1.new_game(CROSS)\n",
        "    player2.new_game(NAUGHT)\n",
        "    board.reset()\n",
        "    \n",
        "    finished = False\n",
        "    while not finished:\n",
        "        result, finished = player1.move(board)\n",
        "        if finished:\n",
        "            if result == GameResult.DRAW:\n",
        "                final_result = GameResult.DRAW\n",
        "            else:\n",
        "                final_result =  GameResult.CROSS_WIN\n",
        "        else:\n",
        "            result, finished = player2.move(board)\n",
        "            if finished:\n",
        "                if result == GameResult.DRAW:\n",
        "                    final_result =  GameResult.DRAW\n",
        "                else:\n",
        "                    final_result =  GameResult.NAUGHT_WIN\n",
        "        \n",
        "    player1.final_result(final_result)\n",
        "    player2.final_result(final_result)\n",
        "    return final_result\n",
        "\n",
        "def battle(player1: Player, player2: Player, num_games):\n",
        "    board = Board()\n",
        "    draw_count = 0\n",
        "    cross_count = 0\n",
        "    naught_count = 0\n",
        "    for _ in range(num_games):\n",
        "        result = play_game(board, player1, player2)\n",
        "        if result == GameResult.CROSS_WIN:\n",
        "            cross_count += 1\n",
        "        elif result == GameResult.NAUGHT_WIN:\n",
        "            naught_count += 1\n",
        "        else:\n",
        "            draw_count += 1\n",
        "\n",
        "    print(\"After {} game we have draws: {}, Player 1 wins: {}, and Player 2 wins: {}.\".format(num_games, draw_count,\n",
        "                                                                                         cross_count, naught_count))\n",
        "\n",
        "    print(\"Which gives percentages of draws: {:.2%}, Player 1 wins: {:.2%}, and Player 2 wins:  {:.2%}\".format(\n",
        "        draw_count / num_games, cross_count / num_games, naught_count / num_games))"
      ],
      "metadata": {
        "id": "yMufVPIR7v6L"
      },
      "execution_count": 100,
      "outputs": []
    },
    {
      "cell_type": "markdown",
      "source": [
        "Define to evaluate the players\n"
      ],
      "metadata": {
        "id": "_rZgZyjD8acd"
      }
    },
    {
      "cell_type": "code",
      "source": [
        "%matplotlib inline\n",
        "\n",
        "import matplotlib\n",
        "import numpy as np\n",
        "import matplotlib.pyplot as plt\n",
        "def eval_players(p1 : Player, p2 : Player, num_battles : int, games_per_battle = 100, loc='best'):\n",
        "    p1_wins = []\n",
        "    p2_wins = []\n",
        "    draws = []\n",
        "    count = []    \n",
        "\n",
        "    for i in range(num_battles):\n",
        "        p1win, p2win, draw = battle(p1, p2, games_per_battle)\n",
        "        p1_wins.append(p1win*100.0/games_per_battle)\n",
        "        p2_wins.append(p2win*100.0/games_per_battle)\n",
        "        draws.append(draw*100.0/games_per_battle)\n",
        "        count.append(i*games_per_battle)\n",
        "        p1_wins.append(p1win*100.0/games_per_battle)\n",
        "        p2_wins.append(p2win*100.0/games_per_battle)\n",
        "        draws.append(draw*100.0/games_per_battle)\n",
        "        count.append((i+1)*games_per_battle)\n",
        "\n",
        "    plt.ylabel('Game outcomes in %')\n",
        "    plt.xlabel('Game number')\n",
        "\n",
        "    plt.plot(count, draws, 'r-', label='Draw')\n",
        "    plt.plot(count, p1_wins, 'g-', label='Player 1 wins')\n",
        "    plt.plot(count, p2_wins, 'b-', label='Player 2 wins')\n",
        "    plt.legend(loc=loc, shadow=True, fancybox=True, framealpha =0.7)"
      ],
      "metadata": {
        "id": "rJdLdthn8fhA"
      },
      "execution_count": 101,
      "outputs": []
    },
    {
      "cell_type": "markdown",
      "source": [
        "Evalute the performance between Minimax and Simple NNQ"
      ],
      "metadata": {
        "id": "hrs3dGBE9qVu"
      }
    },
    {
      "cell_type": "code",
      "source": [
        "player1 = MinMaxAgent()\n",
        "player2 = TQPlayer()\n",
        "battle(player1,player2,10000)"
      ],
      "metadata": {
        "colab": {
          "base_uri": "https://localhost:8080/"
        },
        "id": "G4ovPOfc9u3k",
        "outputId": "5fec779e-914d-4575-82ab-707388890f06"
      },
      "execution_count": 104,
      "outputs": [
        {
          "output_type": "stream",
          "name": "stdout",
          "text": [
            "After 10000 game we have draws: 9905, Player 1 wins: 95, and Player 2 wins: 0.\n",
            "Which gives percentages of draws: 99.05%, Player 1 wins: 0.95%, and Player 2 wins:  0.00%\n"
          ]
        }
      ]
    },
    {
      "cell_type": "code",
      "source": [
        "player1=MinMaxAgent()\n",
        "player2=RndMinMaxAgent()\n",
        "battle(player1,player2,1000)"
      ],
      "metadata": {
        "colab": {
          "base_uri": "https://localhost:8080/"
        },
        "id": "t3ajU_aKU2VM",
        "outputId": "6d3475b2-1f1b-4e90-8926-365cbe2196ea"
      },
      "execution_count": 106,
      "outputs": [
        {
          "output_type": "stream",
          "name": "stdout",
          "text": [
            "After 1000 game we have draws: 1000, Player 1 wins: 0, and Player 2 wins: 0.\n",
            "Which gives percentages of draws: 100.00%, Player 1 wins: 0.00%, and Player 2 wins:  0.00%\n"
          ]
        }
      ]
    },
    {
      "cell_type": "code",
      "source": [
        "player1=TQPlayer()\n",
        "player2=RndMinMaxAgent()\n",
        "battle(player1,player2,10000)"
      ],
      "metadata": {
        "colab": {
          "base_uri": "https://localhost:8080/"
        },
        "id": "34FqDC2DVA_v",
        "outputId": "d9dfe228-9bab-452d-da34-fc741a01fcd5"
      },
      "execution_count": 109,
      "outputs": [
        {
          "output_type": "stream",
          "name": "stdout",
          "text": [
            "After 10000 game we have draws: 9016, Player 1 wins: 0, and Player 2 wins: 984.\n",
            "Which gives percentages of draws: 90.16%, Player 1 wins: 0.00%, and Player 2 wins:  9.84%\n"
          ]
        }
      ]
    }
  ]
}